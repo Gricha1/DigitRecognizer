{
  "nbformat": 4,
  "nbformat_minor": 0,
  "metadata": {
    "colab": {
      "name": "РаспознаваниеРукКагл.ipynb",
      "provenance": [],
      "collapsed_sections": []
    },
    "kernelspec": {
      "name": "python3",
      "display_name": "Python 3"
    },
    "language_info": {
      "name": "python"
    },
    "accelerator": "GPU"
  },
  "cells": [
    {
      "cell_type": "code",
      "metadata": {
        "id": "5PrRBRWbe7ak"
      },
      "source": [
        "import pandas as pd\n",
        "import PIL\n",
        "import torch\n",
        "import torchvision.transforms as transforms\n",
        "import numpy as np\n",
        "import matplotlib.pyplot as plt\n",
        "from PIL import Image\n",
        "from torchvision import models\n",
        "from torch import optim\n",
        "import torch.nn as nn\n",
        "from sklearn.metrics import accuracy_score\n",
        "from sklearn.model_selection import train_test_split"
      ],
      "execution_count": 62,
      "outputs": []
    },
    {
      "cell_type": "code",
      "metadata": {
        "id": "qmc5QCtAe_Ww"
      },
      "source": [
        "#Загружаем данные\n",
        "data = pd.read_csv('train.csv')"
      ],
      "execution_count": 63,
      "outputs": []
    },
    {
      "cell_type": "code",
      "metadata": {
        "id": "wMk18aR_k0Fc"
      },
      "source": [
        "#Надо выборку то поделить на трейн и тест\n",
        "data_train, data_val = train_test_split(data,train_size=0.6,shuffle = True)"
      ],
      "execution_count": 64,
      "outputs": []
    },
    {
      "cell_type": "code",
      "metadata": {
        "id": "ZpI0lDVWSLvd"
      },
      "source": [
        "data_test = pd.read_csv('test.csv')\n",
        "device = 'cuda' if torch.cuda.is_available() else 'cpu'\n",
        "trans = transforms.ToTensor()"
      ],
      "execution_count": 65,
      "outputs": []
    },
    {
      "cell_type": "code",
      "metadata": {
        "id": "6-_RYrKXrod5"
      },
      "source": [
        "#Глянем на реализацию простой модели \n",
        "#первый слой 1 канал в 64 канала\n",
        "#model = models.vgg19(pretrained=False)\n",
        "#next(data_train.iterrows())[10]\n",
        "#data_train.iloc[0,:][1:]"
      ],
      "execution_count": 66,
      "outputs": []
    },
    {
      "cell_type": "code",
      "metadata": {
        "id": "Nz_0Ym2psVMp"
      },
      "source": [
        "#clf = Classif().to(device)\n",
        "#optimizer = optim.AdamW(clf.parameters(), lr=0.0001) 0.4\n",
        "clf = models.resnet101(pretrained=True)\n",
        "clf.conv1 = nn.Conv2d(1, 64, kernel_size=(7, 7), stride=(2, 2), padding=(3, 3), bias=False)\n",
        "clf.fc = nn.Linear(in_features=2048, out_features=10, bias=True)\n",
        "clf = clf.to(device)\n",
        "#Заморозим параметры\n",
        "for ind, layer in enumerate(clf.children()):\n",
        "  if (ind == 5): break\n",
        "  layer.requires_grad_ = False \n",
        "\n",
        "\n",
        "optimizer = optim.Adamax(clf.parameters())\n",
        "lossF = nn.CrossEntropyLoss()\n"
      ],
      "execution_count": 68,
      "outputs": []
    },
    {
      "cell_type": "code",
      "metadata": {
        "id": "CwN7R3oFOnth"
      },
      "source": [
        "def batch_generator(data, batch_size=10):\n",
        "  df = data.reset_index().iloc[:,1:]\n",
        "  for ind in range(1,data.shape[0]+1): # ПОСЛЕДНЕЕ ИЗМЕНЕНИЕ +1 НЕ ПРОВЕРЕННО\n",
        "    if (ind%batch_size) == 0: # получаем батч\n",
        "      df = data.iloc[(ind-batch_size):ind,1:]\n",
        "      x_batch = torch.from_numpy(np.array(df).reshape(df.shape[0],28,-1)[:,np.newaxis]).type(torch.FloatTensor) # batchx 1 x 28 x 28\n",
        "      y_batch = torch.from_numpy(np.array(data.iloc[(ind-batch_size):ind,0])).to(device)    \n",
        "      yield x_batch, y_batch\n",
        "def batch_test_generator(data, batch_size=10):\n",
        "  df = data.reset_index().iloc[:,1:]\n",
        "  for ind in range(1,data.shape[0]+1):\n",
        "    if (ind%batch_size) == 0: # получаем батч\n",
        "      df = data.iloc[(ind-batch_size):ind,:]\n",
        "      x_batch = torch.from_numpy(np.array(df).reshape(df.shape[0],28,-1)[:,np.newaxis]).type(torch.FloatTensor) # batchx 1 x 28 x 28\n",
        "      #y_batch = torch.from_numpy(np.array(data.iloc[(ind-batch_size):ind,0])).to(device)    \n",
        "      yield x_batch"
      ],
      "execution_count": 69,
      "outputs": []
    },
    {
      "cell_type": "code",
      "metadata": {
        "colab": {
          "base_uri": "https://localhost:8080/"
        },
        "id": "t1kVDZ85roig",
        "outputId": "209490c3-525a-4efb-ea81-8061177bb165"
      },
      "source": [
        "#Обучающий цикл \n",
        "losses = []\n",
        "losses_val = []\n",
        "acc=[]\n",
        "acc_val = []\n",
        "batch_size = 1000\n",
        "\n",
        "best_params = clf.parameters\n",
        "x_batch,y_batch = next(batch_generator(data_train, batch_size = batch_size))\n",
        "x_batch = x_batch.to(device)\n",
        "y_true = y_batch.to(device)\n",
        "#Forward propogation\n",
        "y_pred = clf(x_batch)\n",
        "min_loss = lossF(y_pred,y_true)\n",
        "\n",
        "epoches = 20\n",
        "for ep in range(1,epoches+1):\n",
        "    loss_ep=0\n",
        "    clf.train()\n",
        "    for x_batch,y_batch in batch_generator(data_train, batch_size = batch_size):\n",
        "      optimizer.zero_grad()\n",
        "\n",
        "      #Перенесем на GPU\n",
        "      x_batch = x_batch.to(device)\n",
        "      y_true = y_batch.to(device)\n",
        "      #Forward propogation\n",
        "      y_pred = clf(x_batch)\n",
        "      loss = lossF(y_pred,y_true)\n",
        "\n",
        "\n",
        "      #Пробуем достать параметры модели при которых наилучшее качество \n",
        "      #if (min_loss > loss): \n",
        "        #best_params = clf.parameters\n",
        "        #min_loss = loss\n",
        "\n",
        "      loss.backward()\n",
        "      optimizer.step()\n",
        "\n",
        "      loss_ep = loss_ep+loss.item()\n",
        "\n",
        "    losses.append(loss_ep/(data_train.shape[0]//batch_size))\n",
        "\n",
        "    clf.eval()\n",
        "    #train metric\n",
        "    x_batch,y_batch=next(batch_generator(data_train, batch_size = batch_size))\n",
        "    x_batch = x_batch.to(device)\n",
        "    y_true = y_batch.to(device)\n",
        "\n",
        "    y_pred = clf(x_batch)\n",
        "    metr = sum(y_pred.argmax(1)==y_true)/batch_size\n",
        "    acc.append(metr)\n",
        "\n",
        "    #val metric\n",
        "    x_batch,y_batch=next(batch_generator(data_val, batch_size = batch_size))\n",
        "    x_batch = x_batch.to(device)\n",
        "    y_true = y_batch.to(device)\n",
        "\n",
        "    y_pred = clf(x_batch)\n",
        "    metr = sum(y_pred.argmax(1)==y_true)/batch_size\n",
        "    acc_val.append(metr)\n",
        "\n",
        "    loss_val = lossF(y_pred,y_true)\n",
        "    losses_val.append(loss_val.item())\n",
        "  \n",
        "    print('epoch {0} is done, val_loss is: {1}'.format(ep,loss_val))\n",
        "print('Max Val Accuracy: {}'.format(max(acc_val)))\n"
      ],
      "execution_count": 70,
      "outputs": [
        {
          "output_type": "stream",
          "text": [
            "epoch 1 is done, val_loss is: 0.21008454263210297\n",
            "epoch 2 is done, val_loss is: 0.10380184650421143\n",
            "epoch 3 is done, val_loss is: 0.07335418462753296\n",
            "epoch 4 is done, val_loss is: 0.06407938152551651\n",
            "epoch 5 is done, val_loss is: 0.08566807210445404\n",
            "epoch 6 is done, val_loss is: 0.09721829742193222\n",
            "epoch 7 is done, val_loss is: 0.09322164952754974\n",
            "epoch 8 is done, val_loss is: 0.11519049108028412\n",
            "epoch 9 is done, val_loss is: 0.10782540589570999\n",
            "epoch 10 is done, val_loss is: 0.09061775356531143\n",
            "epoch 11 is done, val_loss is: 0.14227643609046936\n",
            "epoch 12 is done, val_loss is: 0.0833917185664177\n",
            "epoch 13 is done, val_loss is: 0.10027791559696198\n",
            "epoch 14 is done, val_loss is: 0.09536071866750717\n",
            "epoch 15 is done, val_loss is: 0.09113440662622452\n",
            "epoch 16 is done, val_loss is: 0.08256036043167114\n",
            "epoch 17 is done, val_loss is: 0.08699710667133331\n",
            "epoch 18 is done, val_loss is: 0.08847029507160187\n",
            "epoch 19 is done, val_loss is: 0.08992138504981995\n",
            "epoch 20 is done, val_loss is: 0.09113793820142746\n",
            "Max Val Accuracy: 0.987000048160553\n"
          ],
          "name": "stdout"
        }
      ]
    },
    {
      "cell_type": "code",
      "metadata": {
        "colab": {
          "base_uri": "https://localhost:8080/",
          "height": 282
        },
        "id": "ZAGzXLdSSUcu",
        "outputId": "d49415c7-fb76-4e21-8427-9af103eea3ff"
      },
      "source": [
        "fig = plt.figure(figsize=(10,4))\n",
        "ax = fig.add_subplot(1,2,1)\n",
        "ax.plot(list(range(len(losses))), losses)\n",
        "ax1 = fig.add_subplot(1,2,2)\n",
        "ax1.plot(list(range(len(losses_val))), losses_val)"
      ],
      "execution_count": 71,
      "outputs": [
        {
          "output_type": "execute_result",
          "data": {
            "text/plain": [
              "[<matplotlib.lines.Line2D at 0x7fd7fbda9dd0>]"
            ]
          },
          "metadata": {
            "tags": []
          },
          "execution_count": 71
        },
        {
          "output_type": "display_data",
          "data": {
            "image/png": "[encoded data removed]",
            "text/plain": [
              "<Figure size 720x288 with 2 Axes>"
            ]
          },
          "metadata": {
            "tags": [],
            "needs_background": "light"
          }
        }
      ]
    },
    {
      "cell_type": "code",
      "metadata": {
        "colab": {
          "base_uri": "https://localhost:8080/",
          "height": 298
        },
        "id": "JfkEu9DThsgJ",
        "outputId": "2e75306b-8750-46c1-b683-39f8603921e6"
      },
      "source": [
        "fig = plt.figure(figsize=(10,4))\n",
        "ax1 = fig.add_subplot(1,2,1)\n",
        "ax1.plot(list(range(len(acc))), acc)\n",
        "ax2 = fig.add_subplot(1,2,2)\n",
        "ax2.plot(list(range(len(acc_val))), acc_val)\n",
        "ax1.set(title = 'Accuracy Train')\n",
        "ax2.set(title = 'Accuracy Val')"
      ],
      "execution_count": 72,
      "outputs": [
        {
          "output_type": "execute_result",
          "data": {
            "text/plain": [
              "[Text(0.5, 1.0, 'Accuracy Val')]"
            ]
          },
          "metadata": {
            "tags": []
          },
          "execution_count": 72
        },
        {
          "output_type": "display_data",
          "data": {
            "image/png": "[encoded data removed]",
            "text/plain": [
              "<Figure size 720x288 with 2 Axes>"
            ]
          },
          "metadata": {
            "tags": [],
            "needs_background": "light"
          }
        }
      ]
    },
    {
      "cell_type": "code",
      "metadata": {
        "id": "XUEuSf8vSBIJ"
      },
      "source": [
        "#Сохранение модели\n",
        "'''\n",
        "from google.colab import drive\n",
        "drive.mount('/content/gdrive')\n",
        "path = f'gdrive/MyDrive/model.pth'\n",
        "torch.save(clf,path)\n",
        "'''"
      ],
      "execution_count": null,
      "outputs": []
    },
    {
      "cell_type": "code",
      "metadata": {
        "id": "HJZBtaDWVpzd"
      },
      "source": [
        "#Загрузка модели(Гугл присоеденен)\n",
        "'''\n",
        "path = f'gdrive/MyDrive/model.pth'\n",
        "torch.cuda.empty_cache()\n",
        "clf = torch.load(path).to('cpu')\n",
        "'''"
      ],
      "execution_count": null,
      "outputs": []
    },
    {
      "cell_type": "code",
      "metadata": {
        "id": "ukpNpsg_XDmq"
      },
      "source": [
        "#Проверка модели на тесте\n",
        "#Будем батчами предикт получать\n",
        "y=torch.tensor([]).to(device)\n",
        "pre_test = torch.from_numpy(np.array(data_test).reshape(data_test.shape[0],28,-1)[:,np.newaxis]).type(torch.FloatTensor) # 28.. x 1 x 28 x 28\n",
        "for x_batch in batch_test_generator(data_test, batch_size = batch_size):\n",
        "    x_batch = x_batch.to(device)\n",
        "    y_pred = clf(x_batch).argmax(1)\n",
        "    y = torch.cat((y,y_pred))\n",
        "y = y.to('cpu')"
      ],
      "execution_count": 73,
      "outputs": []
    },
    {
      "cell_type": "code",
      "metadata": {
        "id": "Cup2BTioYHbU"
      },
      "source": [
        "ans = pd.read_csv('sample_submission.csv')"
      ],
      "execution_count": 74,
      "outputs": []
    },
    {
      "cell_type": "code",
      "metadata": {
        "id": "CQf_lhxbYgM1"
      },
      "source": [
        "ans['Label'] = y.long()"
      ],
      "execution_count": 75,
      "outputs": []
    },
    {
      "cell_type": "code",
      "metadata": {
        "colab": {
          "base_uri": "https://localhost:8080/",
          "height": 419
        },
        "id": "qZmu9bIpYnez",
        "outputId": "1121e665-8d4d-4d8e-dc7d-930a7e092daa"
      },
      "source": [
        "ans"
      ],
      "execution_count": 76,
      "outputs": [
        {
          "output_type": "execute_result",
          "data": {
            "text/html": [
              "<div>\n",
              "<style scoped>\n",
              "    .dataframe tbody tr th:only-of-type {\n",
              "        vertical-align: middle;\n",
              "    }\n",
              "\n",
              "    .dataframe tbody tr th {\n",
              "        vertical-align: top;\n",
              "    }\n",
              "\n",
              "    .dataframe thead th {\n",
              "        text-align: right;\n",
              "    }\n",
              "</style>\n",
              "<table border=\"1\" class=\"dataframe\">\n",
              "  <thead>\n",
              "    <tr style=\"text-align: right;\">\n",
              "      <th></th>\n",
              "      <th>ImageId</th>\n",
              "      <th>Label</th>\n",
              "    </tr>\n",
              "  </thead>\n",
              "  <tbody>\n",
              "    <tr>\n",
              "      <th>0</th>\n",
              "      <td>1</td>\n",
              "      <td>2</td>\n",
              "    </tr>\n",
              "    <tr>\n",
              "      <th>1</th>\n",
              "      <td>2</td>\n",
              "      <td>0</td>\n",
              "    </tr>\n",
              "    <tr>\n",
              "      <th>2</th>\n",
              "      <td>3</td>\n",
              "      <td>9</td>\n",
              "    </tr>\n",
              "    <tr>\n",
              "      <th>3</th>\n",
              "      <td>4</td>\n",
              "      <td>9</td>\n",
              "    </tr>\n",
              "    <tr>\n",
              "      <th>4</th>\n",
              "      <td>5</td>\n",
              "      <td>3</td>\n",
              "    </tr>\n",
              "    <tr>\n",
              "      <th>...</th>\n",
              "      <td>...</td>\n",
              "      <td>...</td>\n",
              "    </tr>\n",
              "    <tr>\n",
              "      <th>27995</th>\n",
              "      <td>27996</td>\n",
              "      <td>9</td>\n",
              "    </tr>\n",
              "    <tr>\n",
              "      <th>27996</th>\n",
              "      <td>27997</td>\n",
              "      <td>7</td>\n",
              "    </tr>\n",
              "    <tr>\n",
              "      <th>27997</th>\n",
              "      <td>27998</td>\n",
              "      <td>3</td>\n",
              "    </tr>\n",
              "    <tr>\n",
              "      <th>27998</th>\n",
              "      <td>27999</td>\n",
              "      <td>9</td>\n",
              "    </tr>\n",
              "    <tr>\n",
              "      <th>27999</th>\n",
              "      <td>28000</td>\n",
              "      <td>2</td>\n",
              "    </tr>\n",
              "  </tbody>\n",
              "</table>\n",
              "<p>28000 rows × 2 columns</p>\n",
              "</div>"
            ],
            "text/plain": [
              "       ImageId  Label\n",
              "0            1      2\n",
              "1            2      0\n",
              "2            3      9\n",
              "3            4      9\n",
              "4            5      3\n",
              "...        ...    ...\n",
              "27995    27996      9\n",
              "27996    27997      7\n",
              "27997    27998      3\n",
              "27998    27999      9\n",
              "27999    28000      2\n",
              "\n",
              "[28000 rows x 2 columns]"
            ]
          },
          "metadata": {
            "tags": []
          },
          "execution_count": 76
        }
      ]
    },
    {
      "cell_type": "code",
      "metadata": {
        "id": "QWF0wQNvUwFv"
      },
      "source": [
        "#Сохраняем ответ\n",
        "ans.to_csv('/content/gdrive/MyDrive/RecognizeSymb/file2.csv', index=False)"
      ],
      "execution_count": 77,
      "outputs": []
    },
    {
      "cell_type": "code",
      "metadata": {
        "colab": {
          "base_uri": "https://localhost:8080/"
        },
        "id": "3wxK6yQfnk5v",
        "outputId": "e18554a2-7075-4192-fc5a-d01b982e2876"
      },
      "source": [
        "from google.colab import drive\n",
        "drive.mount('/content/gdrive')"
      ],
      "execution_count": 58,
      "outputs": [
        {
          "output_type": "stream",
          "text": [
            "Mounted at /content/gdrive\n"
          ],
          "name": "stdout"
        }
      ]
    }
  ]
}